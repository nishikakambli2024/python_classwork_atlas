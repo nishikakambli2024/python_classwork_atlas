{
 "cells": [
  {
   "cell_type": "markdown",
   "id": "5b20af98",
   "metadata": {},
   "source": [
    "# Practice your variables!\n",
    "Course: BBA 108-Essentials of Computing & Coding\n",
    "\n",
    "Submission date: Sunday (19/09/21), 11:59 p.m.\n",
    "\n",
    "Hey everyone! This is a practice bonus assignment worth 10 points. I **highly** encourage all of you to do this.\n",
    "\n",
    "Please contact the following **on Slack** if there are any questions or issues:\n",
    "\n",
    "- @Shourya Watwani \n",
    "- @Vanshika Raj \n",
    "- @Aryan Gupta \n",
    "\n",
    "Thank you! Happy coding :)\n"
   ]
  },
  {
   "cell_type": "code",
   "execution_count": 2,
   "id": "d7643d51",
   "metadata": {},
   "outputs": [
    {
     "data": {
      "text/plain": [
       "'Nishika Kambli'"
      ]
     },
     "execution_count": 2,
     "metadata": {},
     "output_type": "execute_result"
    }
   ],
   "source": [
    "# my name.\n",
    "name= \"Nishika Kambli\"\n",
    "name"
   ]
  },
  {
   "cell_type": "code",
   "execution_count": 3,
   "id": "a48e84de",
   "metadata": {},
   "outputs": [
    {
     "data": {
      "text/plain": [
       "18"
      ]
     },
     "execution_count": 3,
     "metadata": {},
     "output_type": "execute_result"
    }
   ],
   "source": [
    "# my age.\n",
    "age= 18\n",
    "age"
   ]
  },
  {
   "cell_type": "code",
   "execution_count": 4,
   "id": "fb242ec5",
   "metadata": {},
   "outputs": [
    {
     "data": {
      "text/plain": [
       "9"
      ]
     },
     "execution_count": 4,
     "metadata": {},
     "output_type": "execute_result"
    }
   ],
   "source": [
    "#trips within India.\n",
    "trips_within_india= 9\n",
    "trips_within_india"
   ]
  },
  {
   "cell_type": "code",
   "execution_count": 5,
   "id": "ac849402",
   "metadata": {},
   "outputs": [
    {
     "data": {
      "text/plain": [
       "8"
      ]
     },
     "execution_count": 5,
     "metadata": {},
     "output_type": "execute_result"
    }
   ],
   "source": [
    "#trips outside India.\n",
    "trips_outside_india= 8\n",
    "trips_outside_india\n"
   ]
  },
  {
   "cell_type": "code",
   "execution_count": 6,
   "id": "bf7668ee",
   "metadata": {},
   "outputs": [
    {
     "data": {
      "text/plain": [
       "17"
      ]
     },
     "execution_count": 6,
     "metadata": {},
     "output_type": "execute_result"
    }
   ],
   "source": [
    "#total number of trips i've taken.\n",
    "total_trips = (trips_within_india+trips_outside_india)\n",
    "total_trips "
   ]
  },
  {
   "cell_type": "code",
   "execution_count": 7,
   "id": "52224f94",
   "metadata": {},
   "outputs": [
    {
     "data": {
      "text/plain": [
       "'total of 17 trips taken'"
      ]
     },
     "execution_count": 7,
     "metadata": {},
     "output_type": "execute_result"
    }
   ],
   "source": [
    "#  total number of trips i've taken, using the numeric value in a sentence\n",
    "total_trips_taken = \"total of \" + str(9+8) + \" trips taken\"\n",
    "total_trips_taken"
   ]
  },
  {
   "cell_type": "code",
   "execution_count": 8,
   "id": "612c68f3",
   "metadata": {},
   "outputs": [
    {
     "data": {
      "text/plain": [
       "True"
      ]
     },
     "execution_count": 8,
     "metadata": {},
     "output_type": "execute_result"
    }
   ],
   "source": [
    "# Create and print a variable to tell us whether the statement-\n",
    "# -\"I have taken more trips within India than outside India\" is true or false using boolean variables \n",
    "trips_taken= trips_within_india > trips_outside_india\n",
    "trips_taken"
   ]
  },
  {
   "cell_type": "code",
   "execution_count": 9,
   "id": "aaee2c68",
   "metadata": {},
   "outputs": [
    {
     "data": {
      "text/plain": [
       "0.9444444444444444"
      ]
     },
     "execution_count": 9,
     "metadata": {},
     "output_type": "execute_result"
    }
   ],
   "source": [
    "# average number of trips i've taken in a year using-\n",
    "# your total number of trips and your age.\n",
    "average_trips_each_year= 17/18\n",
    "average_trips_each_year"
   ]
  },
  {
   "cell_type": "code",
   "execution_count": 10,
   "id": "810f16f4",
   "metadata": {},
   "outputs": [
    {
     "data": {
      "text/plain": [
       "'i have taken 0.9444444444444444 trips on average each year'"
      ]
     },
     "execution_count": 10,
     "metadata": {},
     "output_type": "execute_result"
    }
   ],
   "source": [
    "# average number of trips i've taken, using the numeric value in a sentence.\n",
    "average_of_trips_each_year_sentence= \"i have taken \" +str(average_trips_each_year) + \" trips on average each year\"\n",
    "average_of_trips_each_year_sentence"
   ]
  }
 ],
 "metadata": {
  "kernelspec": {
   "display_name": "Python 3",
   "language": "python",
   "name": "python3"
  },
  "language_info": {
   "codemirror_mode": {
    "name": "ipython",
    "version": 3
   },
   "file_extension": ".py",
   "mimetype": "text/x-python",
   "name": "python",
   "nbconvert_exporter": "python",
   "pygments_lexer": "ipython3",
   "version": "3.8.8"
  }
 },
 "nbformat": 4,
 "nbformat_minor": 5
}
