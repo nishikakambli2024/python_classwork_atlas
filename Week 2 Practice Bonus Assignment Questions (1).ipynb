{
 "cells": [
  {
   "cell_type": "markdown",
   "metadata": {},
   "source": [
    "# Week 2 Practice Bonus Assignment Solution (30 Marks)\n",
    "**Please upload your work onto Github and submit a link to your Github repository on Google Classroom.**"
   ]
  },
  {
   "cell_type": "markdown",
   "metadata": {},
   "source": [
    "## Student Details\n",
    "\n",
    "- **Name:** Nishika Kambli\n",
    "- **Division:** B\n",
    "- **Roll Number:** 24\n",
    "- **How many hours did it take you to complete this assignment?** 5 \n",
    "- **Any other comments?**"
   ]
  },
  {
   "cell_type": "markdown",
   "metadata": {},
   "source": [
    "**This assignment will cover the following concepts taught in class:**\n",
    "\n",
    "- Lists / 5 marks\n",
    "- Dictionaries / 5 marks\n",
    "- String Functions / 5 marks\n",
    "- Functions / 15 marks"
   ]
  },
  {
   "cell_type": "markdown",
   "metadata": {},
   "source": [
    "## Lists (5 Marks)"
   ]
  },
  {
   "cell_type": "code",
   "execution_count": 101,
   "metadata": {},
   "outputs": [
    {
     "data": {
      "text/plain": [
       "['coke', 'red bull']"
      ]
     },
     "execution_count": 101,
     "metadata": {},
     "output_type": "execute_result"
    }
   ],
   "source": [
    "# Q1 Create a list that contains 2 of your favorite soft drinks and print this list\n",
    "favorite_soft_drink = [\"coke\", \"red bull\"]\n",
    "favorite_soft_drink"
   ]
  },
  {
   "cell_type": "code",
   "execution_count": 102,
   "metadata": {},
   "outputs": [
    {
     "data": {
      "text/plain": [
       "['coke', 'red bull', 'sprite', 'pepsi', 'fanta']"
      ]
     },
     "execution_count": 102,
     "metadata": {},
     "output_type": "execute_result"
    }
   ],
   "source": [
    "# Q2 Add 3 more drinks to this list and print this list\n",
    "favorite_soft_drink.append(\"sprite\")\n",
    "favorite_soft_drink.append(\"pepsi\")\n",
    "favorite_soft_drink.append(\"fanta\")\n",
    "favorite_soft_drink"
   ]
  },
  {
   "cell_type": "code",
   "execution_count": 103,
   "metadata": {},
   "outputs": [
    {
     "data": {
      "text/plain": [
       "5"
      ]
     },
     "execution_count": 103,
     "metadata": {},
     "output_type": "execute_result"
    }
   ],
   "source": [
    "# Q3 Create and Print a variable that stores the number of values your list of favorite soft drinks has\n",
    "favorite_soft_drink_total = len(favorite_soft_drink)\n",
    "favorite_soft_drink_total"
   ]
  },
  {
   "cell_type": "code",
   "execution_count": 107,
   "metadata": {},
   "outputs": [
    {
     "data": {
      "text/plain": [
       "'pepsi'"
      ]
     },
     "execution_count": 107,
     "metadata": {},
     "output_type": "execute_result"
    }
   ],
   "source": [
    "# Q4 Print the second last value in your list of favorite soft drinks\n",
    "favorite_soft_drink[favorite_soft_drink_total-2]"
   ]
  },
  {
   "cell_type": "code",
   "execution_count": 105,
   "metadata": {},
   "outputs": [
    {
     "data": {
      "text/plain": [
       "'pepsi'"
      ]
     },
     "execution_count": 105,
     "metadata": {},
     "output_type": "execute_result"
    }
   ],
   "source": [
    "# Q4 Alternate Answer\n",
    "(favorite_soft_drink[-2])"
   ]
  },
  {
   "cell_type": "code",
   "execution_count": 108,
   "metadata": {},
   "outputs": [
    {
     "data": {
      "text/plain": [
       "['coke', 'big cola', 'sprite', 'pepsi', 'fanta']"
      ]
     },
     "execution_count": 108,
     "metadata": {},
     "output_type": "execute_result"
    }
   ],
   "source": [
    "# Q5 Change the value of the second index to \"Big Cola\" and print your list of favorite soft drinks\n",
    "favorite_soft_drink[1] = \"big cola\"\n",
    "favorite_soft_drink"
   ]
  },
  {
   "cell_type": "markdown",
   "metadata": {},
   "source": [
    "## Dictionaries (5 Marks)"
   ]
  },
  {
   "cell_type": "code",
   "execution_count": 94,
   "metadata": {},
   "outputs": [
    {
     "data": {
      "text/plain": [
       "{'foods': ['pizza', 'momos', 'pasta'], 'movies': ['yjhd', 'znmd', 'oceans 8']}"
      ]
     },
     "execution_count": 94,
     "metadata": {},
     "output_type": "execute_result"
    }
   ],
   "source": [
    "# Q1 Create and print a dictionary called \"my favorites\" that that contains 2 keys that represent \n",
    "# lists of your favorite movies and favorite foods\n",
    "my_favorites = {\"foods\":[\"pizza\",\"momos\", \"pasta\"],\n",
    "              \"movies\":[\"yjhd\",\"znmd\", \"oceans 8\"]}\n",
    "my_favorites"
   ]
  },
  {
   "cell_type": "code",
   "execution_count": 95,
   "metadata": {},
   "outputs": [
    {
     "name": "stdout",
     "output_type": "stream",
     "text": [
      "{'foods': ['pizza', 'momos', 'pasta'], 'movies': ['yjhd', 'znmd', 'oceans 8'], 'Drinks': ['coke', 'red bull', 'sprite', 'pepsi', 'fanta', 'coffee']}\n"
     ]
    }
   ],
   "source": [
    "# Q2 Add another key called \"Drinks\" to the \"my_favorites\" dictionary that is a list of your favorite drinks. \n",
    "my_favorites[\"Drinks\"]= [\"coke\", \"red bull\", \"sprite\", \"pepsi\", \"fanta\", \"coffee\"]\n",
    "\n",
    "# Please print your \"my_favorites\" dictionary after\n",
    "print(my_favorites)"
   ]
  },
  {
   "cell_type": "code",
   "execution_count": 96,
   "metadata": {},
   "outputs": [
    {
     "name": "stdout",
     "output_type": "stream",
     "text": [
      "{'foods': ['pizza', 'momos', 'pasta', 'pani puri'], 'movies': ['yjhd', 'znmd', 'oceans 8'], 'Drinks': ['coke', 'red bull', 'sprite', 'pepsi', 'fanta', 'coffee']}\n"
     ]
    }
   ],
   "source": [
    "# Q3 Add another favorite food to list of favorite foods list in the \"my_favorites\" dictionary\n",
    "my_favorites[\"foods\"].append(\"pani puri\")\n",
    "\n",
    "# Please print your \"my_favorite\" dictionary\n",
    "print(my_favorites)"
   ]
  },
  {
   "cell_type": "code",
   "execution_count": 97,
   "metadata": {},
   "outputs": [
    {
     "data": {
      "text/plain": [
       "['yjhd', 'znmd', 'oceans 8']"
      ]
     },
     "execution_count": 97,
     "metadata": {},
     "output_type": "execute_result"
    }
   ],
   "source": [
    "# Q4 Print the value for your favorite movies from the \"my_favorites\" dictionary\n",
    "my_favorites[\"movies\"]"
   ]
  },
  {
   "cell_type": "code",
   "execution_count": 98,
   "metadata": {},
   "outputs": [
    {
     "data": {
      "text/plain": [
       "3"
      ]
     },
     "execution_count": 98,
     "metadata": {},
     "output_type": "execute_result"
    }
   ],
   "source": [
    "# Q5A Print the total keys in your \"my_favorites\" dictionary \n",
    "total_keys = len(my_favorites)\n",
    "total_keys"
   ]
  },
  {
   "cell_type": "code",
   "execution_count": 100,
   "metadata": {},
   "outputs": [
    {
     "data": {
      "text/plain": [
       "15"
      ]
     },
     "execution_count": 100,
     "metadata": {},
     "output_type": "execute_result"
    }
   ],
   "source": [
    "# Q5B Print the total values for each key in your \"my_favorites\" dictionary\n",
    "total_values1 = len(my_favorites[\"movies\"]+[\"foods\"]+[\"Drinks\"])\n",
    "total_values2 = len(my_favorites[\"foods\"])\n",
    "total_values3 = len(my_favorites[\"Drinks\"])\n",
    "final_total = total_values1+total_values2+total_values3\n",
    "final_total"
   ]
  },
  {
   "cell_type": "markdown",
   "metadata": {},
   "source": [
    "## String Functions (5 Marks) \n",
    "\n",
    "[Reference Library](https://www.w3schools.com/python/ref_string_replace.asp)"
   ]
  },
  {
   "cell_type": "code",
   "execution_count": 20,
   "metadata": {},
   "outputs": [
    {
     "data": {
      "text/plain": [
       "'asdfghjkl'"
      ]
     },
     "execution_count": 20,
     "metadata": {},
     "output_type": "execute_result"
    }
   ],
   "source": [
    "# Q1 Create a string called \"random_characters\" and enter random characters into it (e.g \"sadasdsa\"). \n",
    "random_characters= \"asdfghjkl\"\n",
    "# Print if all characters in random_characters are lowercase\n",
    "random_characters"
   ]
  },
  {
   "cell_type": "code",
   "execution_count": 21,
   "metadata": {},
   "outputs": [
    {
     "data": {
      "text/plain": [
       "'asdfhellohjkl'"
      ]
     },
     "execution_count": 21,
     "metadata": {},
     "output_type": "execute_result"
    }
   ],
   "source": [
    "# Q2 Replace any one character in \"random_characters\" with \"hello\". Print the result \n",
    "random_characters.replace(\"g\",\"hello\")"
   ]
  },
  {
   "cell_type": "code",
   "execution_count": 22,
   "metadata": {},
   "outputs": [
    {
     "data": {
      "text/plain": [
       "'ASDFGHJKL'"
      ]
     },
     "execution_count": 22,
     "metadata": {},
     "output_type": "execute_result"
    }
   ],
   "source": [
    "# Q3 Convert \"random_characters\" to all upper case letters\n",
    "random_characters.upper()"
   ]
  },
  {
   "cell_type": "code",
   "execution_count": 23,
   "metadata": {},
   "outputs": [
    {
     "data": {
      "text/plain": [
       "['yjhd', 'znmd', 'oceans 8']"
      ]
     },
     "execution_count": 23,
     "metadata": {},
     "output_type": "execute_result"
    }
   ],
   "source": [
    "# Q4 \n",
    "# Create a string called \"my_favorite_movies\" with the following value: \"Hum Tum, Kal Ho Na Ho, Dhoom 2\". \n",
    "my_favorite_movies= \"yjhd, znmd, oceans 8\"\n",
    "\n",
    "# Now convert \"my_favorite_movies\" into a list structured like this [\"Hum Tum\", \"Kal Ho Na Ho\", \"Dhoom 2\"]\n",
    "my_favorite_movies= my_favorite_movies.split(\", \")\n",
    "\n",
    "# Print \"my_favorite_movies\"\n",
    "my_favorite_movies"
   ]
  },
  {
   "cell_type": "markdown",
   "metadata": {},
   "source": [
    "## Functions (15 Marks / 3 marks for each question)\n",
    "**PLEASE NOTE THIS IS A BONUS POINT ASSIGNMENT. NOT ALL QUESTIONS ARE GOING TO BE EASY. IT'S CALLED BONUS FOR A REASON.** Please refer to the [Textbook](info370a-w19.github.io/python-basics/)"
   ]
  },
  {
   "cell_type": "markdown",
   "metadata": {},
   "source": [
    "### Q1) Create a function called is_greater that: \n",
    "- Accepts 2 numbers\n",
    "- Returns a boolean value that indicates if variable 1 is greater than variable 2\n",
    "- Please create and print a variable that uses this function"
   ]
  },
  {
   "cell_type": "code",
   "execution_count": 3,
   "metadata": {},
   "outputs": [],
   "source": [
    "# Write your function here\n",
    "def is_greater(num1,num2):\n",
    "    return num1>num2\n"
   ]
  },
  {
   "cell_type": "code",
   "execution_count": 5,
   "metadata": {},
   "outputs": [
    {
     "data": {
      "text/plain": [
       "True"
      ]
     },
     "execution_count": 5,
     "metadata": {},
     "output_type": "execute_result"
    }
   ],
   "source": [
    "# Create and print a variable that uses this function\n",
    "is_greater(5,4)"
   ]
  },
  {
   "cell_type": "markdown",
   "metadata": {},
   "source": [
    "### Q2) Create a function total_list_length\n",
    "- Accepts 2 lists\n",
    "- Calculate the length of each of the two lists\n",
    "- Returns the length of the combined lists\n",
    "- Please create and print a variable that uses this function"
   ]
  },
  {
   "cell_type": "code",
   "execution_count": 14,
   "metadata": {},
   "outputs": [],
   "source": [
    "# Write your function here\n",
    "def total_list_lenght(list1,list2):\n",
    "    return len(list1)+len(list2)"
   ]
  },
  {
   "cell_type": "code",
   "execution_count": 15,
   "metadata": {},
   "outputs": [
    {
     "data": {
      "text/plain": [
       "6"
      ]
     },
     "execution_count": 15,
     "metadata": {},
     "output_type": "execute_result"
    }
   ],
   "source": [
    "# Create and print a variable that uses this function\n",
    "movies = [\"yjhd\", \"znmd\", \"oceans 8\"]\n",
    "food = [\"pizza\",\"momos\", \"pasta\"]\n",
    "total_2list_lenght = total_list_lenght(movies,food)\n",
    "total_2list_lenght"
   ]
  },
  {
   "cell_type": "markdown",
   "metadata": {},
   "source": [
    "### Q3) Create a function called contains_titanic that: \n",
    "- Accepts a list of movies \n",
    "- Returns \"Titanic exists\" If it is present in the list \n",
    "- Returns \"Titanic Does not exist\"if it is not present in the list\n",
    "- Please create and print a variable that uses this function"
   ]
  },
  {
   "cell_type": "code",
   "execution_count": 18,
   "metadata": {},
   "outputs": [],
   "source": [
    "# Write your function here\n",
    "def contains_titanic(movies):\n",
    "    for movie in movies:\n",
    "        if movies == \"titanic\":\n",
    "            return \"titanic exits\"\n",
    "        \n",
    "    return \"titanic does not exist\""
   ]
  },
  {
   "cell_type": "code",
   "execution_count": 19,
   "metadata": {},
   "outputs": [
    {
     "data": {
      "text/plain": [
       "'titanic does not exist'"
      ]
     },
     "execution_count": 19,
     "metadata": {},
     "output_type": "execute_result"
    }
   ],
   "source": [
    "# Create and print a variable that uses this function\n",
    "movies = [\"yjhd\",\"znmd\", \"oceans 8\"]\n",
    "contains_titanic = contains_titanic(movies)\n",
    "contains_titanic"
   ]
  },
  {
   "cell_type": "markdown",
   "metadata": {},
   "source": [
    "### Q4) Create a function called list_average that: \n",
    "\n",
    "- Accepts a list of numbers\n",
    "- Returns the average of the list of numbers\n",
    "- Please create and print a variable that uses this function"
   ]
  },
  {
   "cell_type": "code",
   "execution_count": 32,
   "metadata": {},
   "outputs": [],
   "source": [
    "# Write your function here\n",
    "def list_average(numbers):\n",
    "    return sum(numbers)/len(numbers)"
   ]
  },
  {
   "cell_type": "code",
   "execution_count": 33,
   "metadata": {},
   "outputs": [
    {
     "data": {
      "text/plain": [
       "3.0"
      ]
     },
     "execution_count": 33,
     "metadata": {},
     "output_type": "execute_result"
    }
   ],
   "source": [
    "# Create and print a variable that uses this function\n",
    "numbers= [1,2,3,4,5]\n",
    "list_average= list_average(numbers)\n",
    "list_average"
   ]
  },
  {
   "cell_type": "markdown",
   "metadata": {},
   "source": [
    "### Q5) Create a function called longest_word_in_list that:\n",
    "- Accepts a list of words\n",
    "- Returns the longest string in the list\n",
    "- Please create and print a variable that uses this function"
   ]
  },
  {
   "cell_type": "code",
   "execution_count": 109,
   "metadata": {},
   "outputs": [],
   "source": [
    "# Write your function here\n",
    "def longest_word_in_list(words):\n",
    "    return max(words)"
   ]
  },
  {
   "cell_type": "code",
   "execution_count": 110,
   "metadata": {},
   "outputs": [
    {
     "data": {
      "text/plain": [
       "'yellow'"
      ]
     },
     "execution_count": 110,
     "metadata": {},
     "output_type": "execute_result"
    }
   ],
   "source": [
    "# Create and print a variable that uses this function\n",
    "words= \"red\", \"pink\", \"yellow\"\n",
    "max(words)"
   ]
  }
 ],
 "metadata": {
  "kernelspec": {
   "display_name": "Python 3",
   "language": "python",
   "name": "python3"
  },
  "language_info": {
   "codemirror_mode": {
    "name": "ipython",
    "version": 3
   },
   "file_extension": ".py",
   "mimetype": "text/x-python",
   "name": "python",
   "nbconvert_exporter": "python",
   "pygments_lexer": "ipython3",
   "version": "3.8.8"
  }
 },
 "nbformat": 4,
 "nbformat_minor": 2
}
