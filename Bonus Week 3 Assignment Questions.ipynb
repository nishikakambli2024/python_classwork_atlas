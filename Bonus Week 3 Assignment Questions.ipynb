{
 "cells": [
  {
   "cell_type": "markdown",
   "id": "b56ed1d5",
   "metadata": {},
   "source": [
    "# Bonus Assignment 3: For Loops and Lists\n",
    "\n",
    "- Student Name: Nishika Kambli\n",
    "- Division: B\n",
    "- Roll Number: 24"
   ]
  },
  {
   "cell_type": "markdown",
   "id": "b07c8a7a",
   "metadata": {},
   "source": [
    "# For Loops"
   ]
  },
  {
   "cell_type": "markdown",
   "id": "fa6ebbf9",
   "metadata": {},
   "source": [
    "# Q1) Create a function called emoji_grader that accepts a list of grades and prints emojis based on the following grading scheme: \n",
    "- 100: 😱😱😱😱😱😱\n",
    "- 90 to 99: 🔥🔥🔥🔥🔥\n",
    "- 70 to 89: 🎉🎉🎉🎉🎉\n",
    "- 60 to 69: 😐😐😐😐😐\n",
    "- 35 to 59: 👀\n",
    "- 1 to 35: 👀👀👀👀👀\n",
    "- 0: 💀💀💀💀💀"
   ]
  },
  {
   "cell_type": "code",
   "execution_count": 1,
   "id": "a7b0caf0",
   "metadata": {},
   "outputs": [],
   "source": [
    "def emoji_grader(grades):\n",
    "    for grade in grades:\n",
    "        if grade == 100:\n",
    "            print (\"😱😱😱😱😱😱\")\n",
    "        elif grade >=90 and grade <100:\n",
    "            print (\"🔥🔥🔥🔥🔥\")\n",
    "        elif grade >=70 and grade <90:\n",
    "            print (\" 🎉🎉🎉🎉🎉\")\n",
    "        elif grade >=60 and grade <70: \n",
    "            print (\"😐😐😐😐😐\")\n",
    "        elif grade >=35 and grade <60: \n",
    "            print (\"👀\")\n",
    "        elif grade >=1 and grade <36:\n",
    "            print (\"👀👀👀👀👀\")\n",
    "        else: \n",
    "            print (\"💀💀💀💀💀\")"
   ]
  },
  {
   "cell_type": "code",
   "execution_count": 8,
   "id": "5a7c9d82",
   "metadata": {},
   "outputs": [
    {
     "name": "stdout",
     "output_type": "stream",
     "text": [
      " 🎉🎉🎉🎉🎉\n",
      "😱😱😱😱😱😱\n",
      "😐😐😐😐😐\n",
      "👀👀👀👀👀\n",
      "👀\n",
      "🔥🔥🔥🔥🔥\n",
      "💀💀💀💀💀\n"
     ]
    }
   ],
   "source": [
    "grades= [72,100,61,21,36,92,0]\n",
    "emoji_grader(grades)"
   ]
  },
  {
   "cell_type": "markdown",
   "id": "bac1f93e",
   "metadata": {},
   "source": [
    "## Q2) Create a function called square_printer that accepts a list of numbers and prints the square of each number in the list. Test your function with two lists. (5 Marks): \n",
    "\n",
    "**Here is an example of what the output would look like for the following list [2,4,5]**\n",
    "\n",
    "Current Number is 2  and the Square is 4\n",
    "\n",
    "Current Number is 4  and the Square is 16\n",
    "\n",
    "Current Number is 5  and the Square is 25"
   ]
  },
  {
   "cell_type": "code",
   "execution_count": 11,
   "id": "21d996c3",
   "metadata": {},
   "outputs": [],
   "source": [
    "def square_printer(numbers):\n",
    "    for number in numbers:\n",
    "        print (\"current number is \", number, \"and the square is \", number**2)"
   ]
  },
  {
   "cell_type": "code",
   "execution_count": 12,
   "id": "db25e30a",
   "metadata": {
    "scrolled": true
   },
   "outputs": [
    {
     "name": "stdout",
     "output_type": "stream",
     "text": [
      "current number is  2 and the square is  4\n",
      "current number is  4 and the square is  16\n",
      "current number is  7 and the square is  49\n"
     ]
    }
   ],
   "source": [
    "numbers= [2,4,7]\n",
    "square_printer(numbers)"
   ]
  },
  {
   "cell_type": "code",
   "execution_count": 13,
   "id": "984755b4",
   "metadata": {},
   "outputs": [
    {
     "name": "stdout",
     "output_type": "stream",
     "text": [
      "current number is  12 and the square is  144\n",
      "current number is  29 and the square is  841\n",
      "current number is  36 and the square is  1296\n"
     ]
    }
   ],
   "source": [
    "numbers= [12,29,36]\n",
    "square_printer(numbers)"
   ]
  },
  {
   "cell_type": "markdown",
   "id": "c3fdc03e",
   "metadata": {},
   "source": [
    "# Q3) Create a function called vowel_count_printer that (10 Marks): \n",
    "\n",
    "\n",
    "- Accepts a sentence \n",
    "- Prints the total vowels (\"a\", \"e\", \"i', \"o\", \"u\") for each word in the sentence\n",
    "- Ensure your function is not case sensitve\n",
    "\n",
    "**For example, the sentence \"Hello, I am Zoshua Colah\" should print the following:**\n",
    "\n",
    "Current Word is: Hello and the Total Vowels in the Word are 2\n",
    "\n",
    "Current Word is: I and the Total Vowels in the Word are 1\n",
    "\n",
    "Current Word is: am and the Total Vowels in the Word are 1\n",
    "\n",
    "Current Word is: Zoshua and the Total Vowels in the Word are 3\n",
    "\n",
    "Current Word is: Colah and the Total Vowels in the Word are 2"
   ]
  },
  {
   "cell_type": "code",
   "execution_count": 8,
   "id": "3b304654",
   "metadata": {},
   "outputs": [],
   "source": [
    "def vowel_count_printer(sentence):\n",
    "    words = sentence.split(\" \")\n",
    "    for word in words:\n",
    "        vowel_count = 0 \n",
    "        if \"a\" in word.lower():\n",
    "            vowel_count +=1\n",
    "        if \"e\" in word.lower():\n",
    "            vowel_count +=1\n",
    "        if \"i\" in word.lower():\n",
    "            vowel_count +=1\n",
    "        if \"o\" in word.lower():\n",
    "            vowel_count +=1\n",
    "        if \"u\" in word.lower():\n",
    "            vowel_count +=1 \n",
    "        print (\"Current Word is: \" + (word) + \"and the Total Vowels in the Word are \" + str(vowel_count))\n"
   ]
  },
  {
   "cell_type": "code",
   "execution_count": 9,
   "id": "c39bdacc",
   "metadata": {},
   "outputs": [
    {
     "name": "stdout",
     "output_type": "stream",
     "text": [
      "Current Word is: Hello,and the Total Vowels in the Word are 2\n",
      "Current Word is: Iand the Total Vowels in the Word are 1\n",
      "Current Word is: amand the Total Vowels in the Word are 1\n",
      "Current Word is: Nishikaand the Total Vowels in the Word are 2\n",
      "Current Word is: Kambliand the Total Vowels in the Word are 2\n"
     ]
    }
   ],
   "source": [
    "sentence_1 = \"Hello, I am Nishika Kambli\"\n",
    "vowel_count_printer(sentence_1)"
   ]
  }
 ],
 "metadata": {
  "kernelspec": {
   "display_name": "Python 3",
   "language": "python",
   "name": "python3"
  },
  "language_info": {
   "codemirror_mode": {
    "name": "ipython",
    "version": 3
   },
   "file_extension": ".py",
   "mimetype": "text/x-python",
   "name": "python",
   "nbconvert_exporter": "python",
   "pygments_lexer": "ipython3",
   "version": "3.8.8"
  }
 },
 "nbformat": 4,
 "nbformat_minor": 5
}
